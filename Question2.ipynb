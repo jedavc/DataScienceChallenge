{
  "nbformat": 4,
  "nbformat_minor": 0,
  "metadata": {
    "colab": {
      "name": "Question2.ipynb",
      "provenance": []
    },
    "kernelspec": {
      "name": "python3",
      "display_name": "Python 3"
    }
  },
  "cells": [
    {
      "cell_type": "markdown",
      "metadata": {
        "id": "905G-IYLR2to"
      },
      "source": [
        "# __Question 2: For this question you’ll need to use SQL. Follow this link to access the data set required for the challenge. Please use queries to answer the following questions. Paste your queries along with your final numerical answers below.__\n"
      ]
    },
    {
      "cell_type": "markdown",
      "metadata": {
        "id": "_vO9DJ-kR_Ni"
      },
      "source": [
        "## __How many orders were shipped by Speedy Express in total?__\n",
        "\n",
        "To get the number of orders that were shipped by Speedy Express, we need the information of two tables:\n",
        "1. Table Shippers: give us the name of all the shipping companies\n",
        "2. Table Orders: give us all the orders that were done\n",
        "\n",
        "To get the information that we need, we need to JOIN both Shippers and Orders tables on ShipperID. Then we can filter on ShipperName = \"Speedy Express\" and count the number of records that we have.\n",
        "\n",
        "Here's what the SQL request would look like:\n",
        "\n",
        "\n",
        "```mysql\n",
        "SELECT COUNT(*) as nb_of_orders \n",
        "FROM \n",
        "    Orders as o\n",
        "    INNER JOIN Shippers as s on o.ShipperID = s.ShipperID\n",
        "WHERE\n",
        "    s.ShipperName = \"Speedy Express\";\n",
        "```\n",
        "\n",
        "__We get that the number of orders shipped by Speedy Express is 54.__\n"
      ]
    },
    {
      "cell_type": "markdown",
      "metadata": {
        "id": "Jw-wlVEVR_Y9"
      },
      "source": [
        "## __What is the last name of the employee with the most orders?__\n",
        "To get the last name of the employee with the most orders, we need the information of two tables:\n",
        "1. Table Employees: give us the last name of the employees\n",
        "2. Table Orders: give us all the orders done\n",
        "\n",
        "To get the information that we need, we need to JOIN the table Employees and Orders together and then count the number of orders that were done by each employee. After that, we can fetch the last name of the employee that has the highest number of orders.\n",
        "\n",
        "Here's what the SQL query would look like:\n",
        "```mysql\n",
        "SELECT e.LastName, COUNT(*) as nb_orders\n",
        "FROM \n",
        "    Employees as e\n",
        "    INNER JOIN Orders as o on e.EmployeeID = o.EmployeeID\n",
        "GROUP BY \n",
        "    o.EmployeeID\n",
        "ORDER BY \n",
        "    nb_orders desc\n",
        "LIMIT 1;\n",
        "```\n",
        "__We get that the last name of the employee with the most orders is Peacock (with a total of 40 orders).__\n",
        "\n",
        "_More insight on the SQL query: using the LIMIT 1 with the ORDER BY nb\_orders desc, we only get the employee with the highest number of orders._ \n"
      ]
    },
    {
      "cell_type": "markdown",
      "metadata": {
        "id": "BMzwAJ8kR_lb"
      },
      "source": [
        "## __What product was ordered the most by customers in Germany?__\n",
        "\n",
        "Since this question can be interpreted in two different ways:\n",
        "1. The product that was ordered the most (in term of quantity) in Germany\n",
        "2. The product that was present in the most orders in Germany\n",
        "\n",
        "I will provide the SQL query for both interpretations.\n",
        "\n",
        "__For #1__\n",
        "\n",
        "To get the product that was ordered the most by customers in Germany, we need the information of 4 tables. \n",
        "\n",
        "1. Table Customer: give us the info of where the customer is from.\n",
        "2. Table Products: give us the Name and the quantity of the products\n",
        "3. Table OrderDetails: give us the Quantity of the purchased products for each order\n",
        "4. Table Orders: link together the information from tables Customer and OrderDetails\n",
        "\n",
        "So to get the information that we need, we need to join the 4 tables together and sum the quantity of each distinct product (group by ProductID) where the customer was from Germany.\n",
        "\n",
        "Here's what the SQL request would look like:\n",
        "\n",
        "```mysql\n",
        "SELECT ProductName, SUM(od.Quantity) as total_quantity\n",
        "FROM \n",
        "    Orders as o\n",
        "    INNER JOIN OrderDetails as od on o.OrderID = od.OrderID\n",
        "    INNER JOIN Products as p on p.ProductID = od.ProductID\n",
        "    INNER JOIN Customers as c on c.CustomerID = o.CustomerID\n",
        "WHERE\n",
        "    c.Country = \"Germany\"\n",
        "GROUP BY od.ProductID\n",
        "ORDER BY total_quantity desc\n",
        "LIMIT 1;\n",
        "```\n",
        "\n",
        "__We get that Boston Crab Meat was ordered the most by customers in Germany (with a total quantity of 160).__\n",
        "\n",
        "\n",
        "__For #2__\n",
        "\n",
        "The process is similar to #1, but instead of summing the quantity of each distinct product, we count the number of orders they are in.\n",
        "\n",
        "Here's what the SQL request would look like:\n",
        "\n",
        "```mysql\n",
        "SELECT ProductName, Count(*) as total_orders\n",
        "FROM \n",
        "    Orders as o\n",
        "    INNER JOIN OrderDetails as od on o.OrderID = od.OrderID\n",
        "    INNER JOIN Products as p on p.ProductID = od.ProductID\n",
        "    INNER JOIN Customers as c on c.CustomerID = o.CustomerID\n",
        "WHERE\n",
        "    c.Country = \"Germany\"\n",
        "GROUP BY od.ProductID\n",
        "ORDER BY total_orders desc\n",
        "LIMIT 1;\n",
        "```\n",
        "__We get that Gorgonzola Telino was ordered the most by customers in Germany (5 total orders).__\n"
      ]
    }
  ]
}
