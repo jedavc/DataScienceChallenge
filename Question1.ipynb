{
  "nbformat": 4,
  "nbformat_minor": 0,
  "metadata": {
    "colab": {
      "name": "Question1.ipynb",
      "provenance": [],
      "toc_visible": true
    },
    "kernelspec": {
      "name": "python3",
      "display_name": "Python 3"
    }
  },
  "cells": [
    {
      "cell_type": "markdown",
      "metadata": {
        "id": "hYnxzXrN3ueZ"
      },
      "source": [
        "# Question 1\n",
        "\n",
        "__On Shopify, we have exactly 100 sneaker shops, and each of these shops sells only one model of shoe. We want to do some analysis of the average order value (AOV). When we look at orders data over a 30 day window, we naively calculate an AOV of $3145.13. Given that we know these shops are selling sneakers, a relatively affordable item, something seems wrong with our analysis.__\n"
      ]
    },
    {
      "cell_type": "markdown",
      "metadata": {
        "id": "Mod7IjRs7BTJ"
      },
      "source": [
        "### __a. Think about what could be going wrong with our calculation. Think about a better way to evaluate this data.__\n",
        "\n",
        "Let's first explore the dataset to have a better insight into what could be going wrong with the calculation."
      ]
    },
    {
      "cell_type": "code",
      "metadata": {
        "colab": {
          "base_uri": "https://localhost:8080/",
          "height": 204
        },
        "id": "57TZC1Ecfnxe",
        "outputId": "94a7e5f6-4183-4ded-8ec5-6031945c4cd9"
      },
      "source": [
        "import pandas as pd\n",
        "\n",
        "dataset = pd.read_csv(\"/content/drive/MyDrive/Colab Notebooks/shopify_datascience_challenge/2019 Winter Data Science Intern Challenge Data Set - Sheet1.csv\")\n",
        "dataset.head()"
      ],
      "execution_count": 1,
      "outputs": [
        {
          "output_type": "execute_result",
          "data": {
            "text/html": [
              "<div>\n",
              "<style scoped>\n",
              "    .dataframe tbody tr th:only-of-type {\n",
              "        vertical-align: middle;\n",
              "    }\n",
              "\n",
              "    .dataframe tbody tr th {\n",
              "        vertical-align: top;\n",
              "    }\n",
              "\n",
              "    .dataframe thead th {\n",
              "        text-align: right;\n",
              "    }\n",
              "</style>\n",
              "<table border=\"1\" class=\"dataframe\">\n",
              "  <thead>\n",
              "    <tr style=\"text-align: right;\">\n",
              "      <th></th>\n",
              "      <th>order_id</th>\n",
              "      <th>shop_id</th>\n",
              "      <th>user_id</th>\n",
              "      <th>order_amount</th>\n",
              "      <th>total_items</th>\n",
              "      <th>payment_method</th>\n",
              "      <th>created_at</th>\n",
              "    </tr>\n",
              "  </thead>\n",
              "  <tbody>\n",
              "    <tr>\n",
              "      <th>0</th>\n",
              "      <td>1</td>\n",
              "      <td>53</td>\n",
              "      <td>746</td>\n",
              "      <td>224</td>\n",
              "      <td>2</td>\n",
              "      <td>cash</td>\n",
              "      <td>2017-03-13 12:36:56</td>\n",
              "    </tr>\n",
              "    <tr>\n",
              "      <th>1</th>\n",
              "      <td>2</td>\n",
              "      <td>92</td>\n",
              "      <td>925</td>\n",
              "      <td>90</td>\n",
              "      <td>1</td>\n",
              "      <td>cash</td>\n",
              "      <td>2017-03-03 17:38:52</td>\n",
              "    </tr>\n",
              "    <tr>\n",
              "      <th>2</th>\n",
              "      <td>3</td>\n",
              "      <td>44</td>\n",
              "      <td>861</td>\n",
              "      <td>144</td>\n",
              "      <td>1</td>\n",
              "      <td>cash</td>\n",
              "      <td>2017-03-14 4:23:56</td>\n",
              "    </tr>\n",
              "    <tr>\n",
              "      <th>3</th>\n",
              "      <td>4</td>\n",
              "      <td>18</td>\n",
              "      <td>935</td>\n",
              "      <td>156</td>\n",
              "      <td>1</td>\n",
              "      <td>credit_card</td>\n",
              "      <td>2017-03-26 12:43:37</td>\n",
              "    </tr>\n",
              "    <tr>\n",
              "      <th>4</th>\n",
              "      <td>5</td>\n",
              "      <td>18</td>\n",
              "      <td>883</td>\n",
              "      <td>156</td>\n",
              "      <td>1</td>\n",
              "      <td>credit_card</td>\n",
              "      <td>2017-03-01 4:35:11</td>\n",
              "    </tr>\n",
              "  </tbody>\n",
              "</table>\n",
              "</div>"
            ],
            "text/plain": [
              "   order_id  shop_id  user_id  ...  total_items  payment_method           created_at\n",
              "0         1       53      746  ...            2            cash  2017-03-13 12:36:56\n",
              "1         2       92      925  ...            1            cash  2017-03-03 17:38:52\n",
              "2         3       44      861  ...            1            cash   2017-03-14 4:23:56\n",
              "3         4       18      935  ...            1     credit_card  2017-03-26 12:43:37\n",
              "4         5       18      883  ...            1     credit_card   2017-03-01 4:35:11\n",
              "\n",
              "[5 rows x 7 columns]"
            ]
          },
          "metadata": {
            "tags": []
          },
          "execution_count": 1
        }
      ]
    },
    {
      "cell_type": "code",
      "metadata": {
        "colab": {
          "base_uri": "https://localhost:8080/"
        },
        "id": "OvQ3RY4HiQdP",
        "outputId": "3802e3d6-6c77-40e4-8b65-2edd02c4670a"
      },
      "source": [
        "dataset.info()"
      ],
      "execution_count": 2,
      "outputs": [
        {
          "output_type": "stream",
          "text": [
            "<class 'pandas.core.frame.DataFrame'>\n",
            "RangeIndex: 5000 entries, 0 to 4999\n",
            "Data columns (total 7 columns):\n",
            " #   Column          Non-Null Count  Dtype \n",
            "---  ------          --------------  ----- \n",
            " 0   order_id        5000 non-null   int64 \n",
            " 1   shop_id         5000 non-null   int64 \n",
            " 2   user_id         5000 non-null   int64 \n",
            " 3   order_amount    5000 non-null   int64 \n",
            " 4   total_items     5000 non-null   int64 \n",
            " 5   payment_method  5000 non-null   object\n",
            " 6   created_at      5000 non-null   object\n",
            "dtypes: int64(5), object(2)\n",
            "memory usage: 273.6+ KB\n"
          ],
          "name": "stdout"
        }
      ]
    },
    {
      "cell_type": "markdown",
      "metadata": {
        "id": "j6_Fpp1a7Yrz"
      },
      "source": [
        "By just looking at the initial info, we see that we have access to 7 columns, with a total of 5000 rows that have no missing values. \n",
        "\n",
        "Let's start by checking the __created_at__ column to see what is our date range:"
      ]
    },
    {
      "cell_type": "code",
      "metadata": {
        "colab": {
          "base_uri": "https://localhost:8080/"
        },
        "id": "7vEfsdkSiWEC",
        "outputId": "ba3f3717-83ef-44cb-f14b-06765d7a85b0"
      },
      "source": [
        "dataset[\"created_at\"] = pd.to_datetime(dataset[\"created_at\"])\n",
        "\n",
        "# Date range\n",
        "first_date = dataset[\"created_at\"].min()\n",
        "last_date = dataset[\"created_at\"].max()\n",
        "\n",
        "print(\"First date: {}\".format(first_date))\n",
        "print(\"Last date: {}\".format(last_date))\n",
        "print(\"Number of days: {}\".format((last_date - first_date).days))"
      ],
      "execution_count": 3,
      "outputs": [
        {
          "output_type": "stream",
          "text": [
            "First date: 2017-03-01 00:08:09\n",
            "Last date: 2017-03-30 23:55:35\n",
            "Number of days: 29\n"
          ],
          "name": "stdout"
        }
      ]
    },
    {
      "cell_type": "markdown",
      "metadata": {
        "id": "aV-pMJqh9Vvw"
      },
      "source": [
        "We see that the first order, from our dataset, was created the 2017-03-01 00:08:09 and the last order was created the 2017-03-30 23:55:35.\n",
        "\n",
        "Our dataset is then composed of an entire month of orders. Let's check what value we get by calculating a simple average of all the values in __order_amount__."
      ]
    },
    {
      "cell_type": "code",
      "metadata": {
        "colab": {
          "base_uri": "https://localhost:8080/"
        },
        "id": "tKBx5ba_mVkP",
        "outputId": "44fb7f5c-0205-433f-f24c-bec255c09662"
      },
      "source": [
        "AOV = dataset[\"order_amount\"].sum() / dataset[\"order_amount\"].count()\n",
        "print(\"Raw AOV: {:.2f}\".format(AOV))"
      ],
      "execution_count": 4,
      "outputs": [
        {
          "output_type": "stream",
          "text": [
            "Raw AOV: 3145.13\n"
          ],
          "name": "stdout"
        }
      ]
    },
    {
      "cell_type": "markdown",
      "metadata": {
        "id": "xrTLP6UM-qpr"
      },
      "source": [
        "We get the same AOV value when doing this simple average over all the records. Let's investigate more on why this metric could be misleading/flawed.\n",
        "\n",
        "The first step would be to check the data distribution of all the columns in the given dataset to see if there is anything odd. \n",
        "\n"
      ]
    },
    {
      "cell_type": "code",
      "metadata": {
        "id": "WBgoAD2ZdTlk"
      },
      "source": [
        "# Since all our orders were created in the same month, let's just focus on the day that the orders were created on\n",
        "dataset[\"day\"] = dataset[\"created_at\"].dt.day"
      ],
      "execution_count": 5,
      "outputs": []
    },
    {
      "cell_type": "markdown",
      "metadata": {
        "id": "rMUU1kr9peUw"
      },
      "source": [
        "Let's check what the total/average __order\\_amount__ was for each day of the month:"
      ]
    },
    {
      "cell_type": "code",
      "metadata": {
        "colab": {
          "base_uri": "https://localhost:8080/",
          "height": 596
        },
        "id": "yfxBJUdpmBm8",
        "outputId": "bbc1f03f-f593-44a8-84d5-8f5730a5720b"
      },
      "source": [
        "total_amount_per_days = dataset.groupby(\"day\").agg({\"order_amount\": \"sum\"}).reset_index()\n",
        "avg_amount_per_days = dataset.groupby(\"day\").agg({\"order_amount\": \"mean\"}).reset_index()\n",
        "\n",
        "total_amount_per_days.plot(kind=\"bar\", x=\"day\", y=\"order_amount\", title=\"Total amount for each day of the month\", ylabel=\"Total Order Amount\")\n",
        "avg_amount_per_days.plot(kind=\"bar\", x=\"day\", y=\"order_amount\", title=\"Average amount for each day of the month\", ylabel=\"Average Order Amount\")"
      ],
      "execution_count": 6,
      "outputs": [
        {
          "output_type": "execute_result",
          "data": {
            "text/plain": [
              "<matplotlib.axes._subplots.AxesSubplot at 0x7f42d2068630>"
            ]
          },
          "metadata": {
            "tags": []
          },
          "execution_count": 6
        },
        {
          "output_type": "display_data",
          "data": {
            "image/png": "[encoded data removed]",
            "text/plain": [
              "<Figure size 432x288 with 1 Axes>"
            ]
          },
          "metadata": {
            "tags": [],
            "needs_background": "light"
          }
        },
        {
          "output_type": "display_data",
          "data": {
            "image/png": "[encoded data removed]",
            "text/plain": [
              "<Figure size 432x288 with 1 Axes>"
            ]
          },
          "metadata": {
            "tags": [],
            "needs_background": "light"
          }
        }
      ]
    },
    {
      "cell_type": "markdown",
      "metadata": {
        "id": "dNOajEL3pxJD"
      },
      "source": [
        "The __order\\_amount__ seems to be randomly distributed across the days and there are no days where the __order\\_amount__ is particularly high or low relative to the others."
      ]
    },
    {
      "cell_type": "markdown",
      "metadata": {
        "id": "2qzlK3_enwnA"
      },
      "source": [
        "Since all the shops only sell one model of shoes, we can figure out the price of said pair for each shop:"
      ]
    },
    {
      "cell_type": "code",
      "metadata": {
        "colab": {
          "base_uri": "https://localhost:8080/",
          "height": 316
        },
        "id": "OYjeoHUm6Ihk",
        "outputId": "969f4cfa-f21e-477a-8fda-ca3e6c3854e4"
      },
      "source": [
        "def get_shoe_prices(df_sub):\n",
        "    return df_sub['order_amount'].sum() / df_sub['total_items'].sum()\n",
        "\n",
        "dataset.groupby(\"shop_id\").apply(get_shoe_prices).nlargest(10).plot(kind=\"bar\", title=\"Top 10 Store with the Highest Shoe Price\", ylabel=\"Price\")"
      ],
      "execution_count": 7,
      "outputs": [
        {
          "output_type": "execute_result",
          "data": {
            "text/plain": [
              "<matplotlib.axes._subplots.AxesSubplot at 0x7f42d214ad30>"
            ]
          },
          "metadata": {
            "tags": []
          },
          "execution_count": 7
        },
        {
          "output_type": "display_data",
          "data": {
            "image/png": "[encoded data removed]",
            "text/plain": [
              "<Figure size 432x288 with 1 Axes>"
            ]
          },
          "metadata": {
            "tags": [],
            "needs_background": "light"
          }
        }
      ]
    },
    {
      "cell_type": "markdown",
      "metadata": {
        "id": "sDfTTKYowrFH"
      },
      "source": [
        "We see from the plot above that the store with __shop\\_id__ = 78 has a significantly high shoe price, compared to the other stores. This could be an error or a niche store that sells high-end shoes. \n",
        "\n",
        "Either way, orders made with this store would result in __order\\_amount__ larger than normal and drive the AOV up quite significantly."
      ]
    },
    {
      "cell_type": "markdown",
      "metadata": {
        "id": "YD5VZVOHNrt8"
      },
      "source": [
        "Next lets check the distributions of total __order\\_amount__ per __shop\\_id__ and per __user\\_id__:"
      ]
    },
    {
      "cell_type": "code",
      "metadata": {
        "colab": {
          "base_uri": "https://localhost:8080/",
          "height": 604
        },
        "id": "5CYk4wH9wa-n",
        "outputId": "676884d8-7fc7-47de-9a78-86d8cc3d7e06"
      },
      "source": [
        "dataset.groupby(\"shop_id\").agg({\"order_amount\": \"mean\"}).nlargest(10, 'order_amount').plot(\n",
        "    kind=\"bar\", title=\"10 Highest Total Order Amount by Shop Id\", ylabel=\"Total Order Amount\"\n",
        ")\n",
        "\n",
        "dataset.groupby(\"user_id\").agg({\"order_amount\": \"mean\"}).nlargest(10, 'order_amount').plot(\n",
        "    kind=\"bar\", title=\"10 Highest Total Order Amount by Customer Id\", ylabel=\"Total Order Amount\"\n",
        ")"
      ],
      "execution_count": 8,
      "outputs": [
        {
          "output_type": "execute_result",
          "data": {
            "text/plain": [
              "<matplotlib.axes._subplots.AxesSubplot at 0x7f42d19f4748>"
            ]
          },
          "metadata": {
            "tags": []
          },
          "execution_count": 8
        },
        {
          "output_type": "display_data",
          "data": {
            "image/png": "[encoded data removed]",
            "text/plain": [
              "<Figure size 432x288 with 1 Axes>"
            ]
          },
          "metadata": {
            "tags": [],
            "needs_background": "light"
          }
        },
        {
          "output_type": "display_data",
          "data": {
            "image/png": "[encoded data removed]",
            "text/plain": [
              "<Figure size 432x288 with 1 Axes>"
            ]
          },
          "metadata": {
            "tags": [],
            "needs_background": "light"
          }
        }
      ]
    },
    {
      "cell_type": "markdown",
      "metadata": {
        "id": "sztoYwD1ZMH2"
      },
      "source": [
        "We can see from the first plot that there are two stores (__shop\\_id__ = 42 and __shop_id__ = 78) that seem to have a higher total order amount compared to the order stores. We can also see, from the second plot, that one user (__user\\_id__ = 607) seems to have a significantly higher total __order\\_amount__ than the other users.\n",
        "\n",
        "We know that __shop\\_id__ = 78 has a high shoe price, so that would explain why it also has a high total order amount relative to the other stores.\n",
        "\n",
        "Let's investigate a bit more user 607 to see what is going on:"
      ]
    },
    {
      "cell_type": "code",
      "metadata": {
        "colab": {
          "base_uri": "https://localhost:8080/",
          "height": 576
        },
        "id": "rjxPO4_2IMUh",
        "outputId": "a7b290ea-d153-44bd-8dd5-102d8c3db76f"
      },
      "source": [
        "dataset.loc[dataset[\"user_id\"] == 607]"
      ],
      "execution_count": 9,
      "outputs": [
        {
          "output_type": "execute_result",
          "data": {
            "text/html": [
              "<div>\n",
              "<style scoped>\n",
              "    .dataframe tbody tr th:only-of-type {\n",
              "        vertical-align: middle;\n",
              "    }\n",
              "\n",
              "    .dataframe tbody tr th {\n",
              "        vertical-align: top;\n",
              "    }\n",
              "\n",
              "    .dataframe thead th {\n",
              "        text-align: right;\n",
              "    }\n",
              "</style>\n",
              "<table border=\"1\" class=\"dataframe\">\n",
              "  <thead>\n",
              "    <tr style=\"text-align: right;\">\n",
              "      <th></th>\n",
              "      <th>order_id</th>\n",
              "      <th>shop_id</th>\n",
              "      <th>user_id</th>\n",
              "      <th>order_amount</th>\n",
              "      <th>total_items</th>\n",
              "      <th>payment_method</th>\n",
              "      <th>created_at</th>\n",
              "      <th>day</th>\n",
              "    </tr>\n",
              "  </thead>\n",
              "  <tbody>\n",
              "    <tr>\n",
              "      <th>15</th>\n",
              "      <td>16</td>\n",
              "      <td>42</td>\n",
              "      <td>607</td>\n",
              "      <td>704000</td>\n",
              "      <td>2000</td>\n",
              "      <td>credit_card</td>\n",
              "      <td>2017-03-07 04:00:00</td>\n",
              "      <td>7</td>\n",
              "    </tr>\n",
              "    <tr>\n",
              "      <th>60</th>\n",
              "      <td>61</td>\n",
              "      <td>42</td>\n",
              "      <td>607</td>\n",
              "      <td>704000</td>\n",
              "      <td>2000</td>\n",
              "      <td>credit_card</td>\n",
              "      <td>2017-03-04 04:00:00</td>\n",
              "      <td>4</td>\n",
              "    </tr>\n",
              "    <tr>\n",
              "      <th>520</th>\n",
              "      <td>521</td>\n",
              "      <td>42</td>\n",
              "      <td>607</td>\n",
              "      <td>704000</td>\n",
              "      <td>2000</td>\n",
              "      <td>credit_card</td>\n",
              "      <td>2017-03-02 04:00:00</td>\n",
              "      <td>2</td>\n",
              "    </tr>\n",
              "    <tr>\n",
              "      <th>1104</th>\n",
              "      <td>1105</td>\n",
              "      <td>42</td>\n",
              "      <td>607</td>\n",
              "      <td>704000</td>\n",
              "      <td>2000</td>\n",
              "      <td>credit_card</td>\n",
              "      <td>2017-03-24 04:00:00</td>\n",
              "      <td>24</td>\n",
              "    </tr>\n",
              "    <tr>\n",
              "      <th>1362</th>\n",
              "      <td>1363</td>\n",
              "      <td>42</td>\n",
              "      <td>607</td>\n",
              "      <td>704000</td>\n",
              "      <td>2000</td>\n",
              "      <td>credit_card</td>\n",
              "      <td>2017-03-15 04:00:00</td>\n",
              "      <td>15</td>\n",
              "    </tr>\n",
              "    <tr>\n",
              "      <th>1436</th>\n",
              "      <td>1437</td>\n",
              "      <td>42</td>\n",
              "      <td>607</td>\n",
              "      <td>704000</td>\n",
              "      <td>2000</td>\n",
              "      <td>credit_card</td>\n",
              "      <td>2017-03-11 04:00:00</td>\n",
              "      <td>11</td>\n",
              "    </tr>\n",
              "    <tr>\n",
              "      <th>1562</th>\n",
              "      <td>1563</td>\n",
              "      <td>42</td>\n",
              "      <td>607</td>\n",
              "      <td>704000</td>\n",
              "      <td>2000</td>\n",
              "      <td>credit_card</td>\n",
              "      <td>2017-03-19 04:00:00</td>\n",
              "      <td>19</td>\n",
              "    </tr>\n",
              "    <tr>\n",
              "      <th>1602</th>\n",
              "      <td>1603</td>\n",
              "      <td>42</td>\n",
              "      <td>607</td>\n",
              "      <td>704000</td>\n",
              "      <td>2000</td>\n",
              "      <td>credit_card</td>\n",
              "      <td>2017-03-17 04:00:00</td>\n",
              "      <td>17</td>\n",
              "    </tr>\n",
              "    <tr>\n",
              "      <th>2153</th>\n",
              "      <td>2154</td>\n",
              "      <td>42</td>\n",
              "      <td>607</td>\n",
              "      <td>704000</td>\n",
              "      <td>2000</td>\n",
              "      <td>credit_card</td>\n",
              "      <td>2017-03-12 04:00:00</td>\n",
              "      <td>12</td>\n",
              "    </tr>\n",
              "    <tr>\n",
              "      <th>2297</th>\n",
              "      <td>2298</td>\n",
              "      <td>42</td>\n",
              "      <td>607</td>\n",
              "      <td>704000</td>\n",
              "      <td>2000</td>\n",
              "      <td>credit_card</td>\n",
              "      <td>2017-03-07 04:00:00</td>\n",
              "      <td>7</td>\n",
              "    </tr>\n",
              "    <tr>\n",
              "      <th>2835</th>\n",
              "      <td>2836</td>\n",
              "      <td>42</td>\n",
              "      <td>607</td>\n",
              "      <td>704000</td>\n",
              "      <td>2000</td>\n",
              "      <td>credit_card</td>\n",
              "      <td>2017-03-28 04:00:00</td>\n",
              "      <td>28</td>\n",
              "    </tr>\n",
              "    <tr>\n",
              "      <th>2969</th>\n",
              "      <td>2970</td>\n",
              "      <td>42</td>\n",
              "      <td>607</td>\n",
              "      <td>704000</td>\n",
              "      <td>2000</td>\n",
              "      <td>credit_card</td>\n",
              "      <td>2017-03-28 04:00:00</td>\n",
              "      <td>28</td>\n",
              "    </tr>\n",
              "    <tr>\n",
              "      <th>3332</th>\n",
              "      <td>3333</td>\n",
              "      <td>42</td>\n",
              "      <td>607</td>\n",
              "      <td>704000</td>\n",
              "      <td>2000</td>\n",
              "      <td>credit_card</td>\n",
              "      <td>2017-03-24 04:00:00</td>\n",
              "      <td>24</td>\n",
              "    </tr>\n",
              "    <tr>\n",
              "      <th>4056</th>\n",
              "      <td>4057</td>\n",
              "      <td>42</td>\n",
              "      <td>607</td>\n",
              "      <td>704000</td>\n",
              "      <td>2000</td>\n",
              "      <td>credit_card</td>\n",
              "      <td>2017-03-28 04:00:00</td>\n",
              "      <td>28</td>\n",
              "    </tr>\n",
              "    <tr>\n",
              "      <th>4646</th>\n",
              "      <td>4647</td>\n",
              "      <td>42</td>\n",
              "      <td>607</td>\n",
              "      <td>704000</td>\n",
              "      <td>2000</td>\n",
              "      <td>credit_card</td>\n",
              "      <td>2017-03-02 04:00:00</td>\n",
              "      <td>2</td>\n",
              "    </tr>\n",
              "    <tr>\n",
              "      <th>4868</th>\n",
              "      <td>4869</td>\n",
              "      <td>42</td>\n",
              "      <td>607</td>\n",
              "      <td>704000</td>\n",
              "      <td>2000</td>\n",
              "      <td>credit_card</td>\n",
              "      <td>2017-03-22 04:00:00</td>\n",
              "      <td>22</td>\n",
              "    </tr>\n",
              "    <tr>\n",
              "      <th>4882</th>\n",
              "      <td>4883</td>\n",
              "      <td>42</td>\n",
              "      <td>607</td>\n",
              "      <td>704000</td>\n",
              "      <td>2000</td>\n",
              "      <td>credit_card</td>\n",
              "      <td>2017-03-25 04:00:00</td>\n",
              "      <td>25</td>\n",
              "    </tr>\n",
              "  </tbody>\n",
              "</table>\n",
              "</div>"
            ],
            "text/plain": [
              "      order_id  shop_id  user_id  ...  payment_method          created_at day\n",
              "15          16       42      607  ...     credit_card 2017-03-07 04:00:00   7\n",
              "60          61       42      607  ...     credit_card 2017-03-04 04:00:00   4\n",
              "520        521       42      607  ...     credit_card 2017-03-02 04:00:00   2\n",
              "1104      1105       42      607  ...     credit_card 2017-03-24 04:00:00  24\n",
              "1362      1363       42      607  ...     credit_card 2017-03-15 04:00:00  15\n",
              "1436      1437       42      607  ...     credit_card 2017-03-11 04:00:00  11\n",
              "1562      1563       42      607  ...     credit_card 2017-03-19 04:00:00  19\n",
              "1602      1603       42      607  ...     credit_card 2017-03-17 04:00:00  17\n",
              "2153      2154       42      607  ...     credit_card 2017-03-12 04:00:00  12\n",
              "2297      2298       42      607  ...     credit_card 2017-03-07 04:00:00   7\n",
              "2835      2836       42      607  ...     credit_card 2017-03-28 04:00:00  28\n",
              "2969      2970       42      607  ...     credit_card 2017-03-28 04:00:00  28\n",
              "3332      3333       42      607  ...     credit_card 2017-03-24 04:00:00  24\n",
              "4056      4057       42      607  ...     credit_card 2017-03-28 04:00:00  28\n",
              "4646      4647       42      607  ...     credit_card 2017-03-02 04:00:00   2\n",
              "4868      4869       42      607  ...     credit_card 2017-03-22 04:00:00  22\n",
              "4882      4883       42      607  ...     credit_card 2017-03-25 04:00:00  25\n",
              "\n",
              "[17 rows x 8 columns]"
            ]
          },
          "metadata": {
            "tags": []
          },
          "execution_count": 9
        }
      ]
    },
    {
      "cell_type": "markdown",
      "metadata": {
        "id": "Xeyy4_hhJE2_"
      },
      "source": [
        "We can see that __user\\_id__ = 607 made a total of 17 orders, all of which have an __order\\_amount__ of 704000 and all were made in __shop\\_id__ = 42. \n",
        "\n",
        "We now have a better picture of why the AOV is that high (for a relatively affordable item). The orders made by this user have an __order\\_amount__ so high (relative to the other orders) that is increasing the AOV quite a lot. Also, all the orders made under __shop\\_id__ = 78 are driving the AOV up (since they sell shoes at a significantly higher price than all the other stores)."
      ]
    },
    {
      "cell_type": "markdown",
      "metadata": {
        "id": "9bPjjRdWGkMY"
      },
      "source": [
        "### __b. What metric would you report for this dataset?__\n",
        "\n",
        "As we saw from our analysis above, we have outliers in our dataset (orders from __shop\\_id__ = 78 and from __user\\_id__ = 607) that drive up the value of our \"naive\" AOV. \n",
        "\n",
        "A solution to that would be to use metrics that are less affected by outliers such as median or interquartile range (IQR). The median provides a measure of the center of a dataset while the IQR can be used as a measure of how spread-out the values are (how spread-out the \"middle\" values are).\n",
        "\n",
        "Another solution would be to remove those outliers before calculating our metric so that they don't bias the value."
      ]
    },
    {
      "cell_type": "markdown",
      "metadata": {
        "id": "QZT9fONFoCBW"
      },
      "source": [
        "### __c. What is its value?__"
      ]
    },
    {
      "cell_type": "markdown",
      "metadata": {
        "id": "1d2vRnNAAj1A"
      },
      "source": [
        "Here's what the median and IQR are:"
      ]
    },
    {
      "cell_type": "code",
      "metadata": {
        "colab": {
          "base_uri": "https://localhost:8080/"
        },
        "id": "VEwjSK86aRKj",
        "outputId": "374e00e0-4e6c-403e-e808-6fd740730010"
      },
      "source": [
        "median = dataset[\"order_amount\"].median()\n",
        "iqr =  dataset[\"order_amount\"].quantile(.75) - dataset[\"order_amount\"].quantile(.25)\n",
        "\n",
        "print(\"Median: {}\".format(median))\n",
        "print(\"IQR: {}\".format(iqr))"
      ],
      "execution_count": 10,
      "outputs": [
        {
          "output_type": "stream",
          "text": [
            "Median: 284.0\n",
            "IQR: 227.0\n"
          ],
          "name": "stdout"
        }
      ]
    },
    {
      "cell_type": "markdown",
      "metadata": {
        "id": "v_7mKsJSAsZ9"
      },
      "source": [
        "As we can see, these metrics are far less affected by the orders that had huge __order\\_amount__."
      ]
    },
    {
      "cell_type": "markdown",
      "metadata": {
        "id": "R-tJSB2QAnXS"
      },
      "source": [
        "### __Bonus__\n",
        "\n",
        "We could also use a machine learning outlier detection method to flag and remove the outliers in our dataset instead of doing the manual exploration work that we did above (to find the orders that had huge order_amount relative to the other data points that we have). We could use an unsupervised clustering algorithm to find data points that should be considered as outliers. \n",
        "\n",
        "One clustering that we could use is DBSCAN (Density-based spatial clustering of applications with noise).\n",
        "\n",
        "It's a density-based clustering algorithm that groups together points that are closely packed together (points with many nearby neighbors), marking as outliers points that lie alone in low-density regions (whose nearest neighbors are too far away)."
      ]
    },
    {
      "cell_type": "markdown",
      "metadata": {
        "id": "YFmY5TXxieHm"
      },
      "source": [
        "First step is preprocessing our dataset by doing the following:\n",
        "1. Select the feature to keep for the clustering\n",
        "2. One-hot encode the categorical feature (__payment_method__)\n",
        "3. Standardize features by removing the mean and scaling to unit variance"
      ]
    },
    {
      "cell_type": "code",
      "metadata": {
        "id": "fPIq4U68TPbS"
      },
      "source": [
        "from sklearn.preprocessing import StandardScaler\n",
        "\n",
        "# Features that we're gonna keep\n",
        "features = dataset[[\"shop_id\", \"user_id\", \"order_amount\", \"payment_method\", \"day\"]]\n",
        "\n",
        "# One-hot encode our categorical feature (payment_method)\n",
        "one_hot_features = pd.get_dummies(features)\n",
        "\n",
        "# Scale our data\n",
        "train = StandardScaler().fit_transform(one_hot_features)"
      ],
      "execution_count": 11,
      "outputs": []
    },
    {
      "cell_type": "markdown",
      "metadata": {
        "id": "xNUl-NWvi4h-"
      },
      "source": [
        "Next, we can call DBSCAN from sklearn. The two main hyperparameters we need to adjust is __eps__ and __min\\_samples__.\n",
        "\n",
        "- __eps__: The maximum distance between two samples for one to be considered as in the neighborhood of the other (here we are using the euclidean distance).\n",
        "- __min\\_samples__: The number of samples in a neighborhood for a point to be considered as a core point.\n",
        "\n",
        "For our dataset, an __eps__ = 1 and a __min\\_samples__ = 30 seems to produce good results. This means we need at least 30 orders with a euclidean distance of 1 or lower, between their feature vectors, for them not to be considered outliers."
      ]
    },
    {
      "cell_type": "code",
      "metadata": {
        "id": "W_3v86TmxDJ7",
        "colab": {
          "base_uri": "https://localhost:8080/",
          "height": 1000
        },
        "outputId": "a5746487-3a7a-4129-c005-ca5b21ce2919"
      },
      "source": [
        "from sklearn.cluster import DBSCAN\n",
        "\n",
        "db = DBSCAN(eps=1, min_samples=30).fit(train)\n",
        "\n",
        "# DBSCAN give a label = -1 for all noise/outlier points\n",
        "dataset[db.labels_ == -1] "
      ],
      "execution_count": 12,
      "outputs": [
        {
          "output_type": "execute_result",
          "data": {
            "text/html": [
              "<div>\n",
              "<style scoped>\n",
              "    .dataframe tbody tr th:only-of-type {\n",
              "        vertical-align: middle;\n",
              "    }\n",
              "\n",
              "    .dataframe tbody tr th {\n",
              "        vertical-align: top;\n",
              "    }\n",
              "\n",
              "    .dataframe thead th {\n",
              "        text-align: right;\n",
              "    }\n",
              "</style>\n",
              "<table border=\"1\" class=\"dataframe\">\n",
              "  <thead>\n",
              "    <tr style=\"text-align: right;\">\n",
              "      <th></th>\n",
              "      <th>order_id</th>\n",
              "      <th>shop_id</th>\n",
              "      <th>user_id</th>\n",
              "      <th>order_amount</th>\n",
              "      <th>total_items</th>\n",
              "      <th>payment_method</th>\n",
              "      <th>created_at</th>\n",
              "      <th>day</th>\n",
              "    </tr>\n",
              "  </thead>\n",
              "  <tbody>\n",
              "    <tr>\n",
              "      <th>15</th>\n",
              "      <td>16</td>\n",
              "      <td>42</td>\n",
              "      <td>607</td>\n",
              "      <td>704000</td>\n",
              "      <td>2000</td>\n",
              "      <td>credit_card</td>\n",
              "      <td>2017-03-07 04:00:00</td>\n",
              "      <td>7</td>\n",
              "    </tr>\n",
              "    <tr>\n",
              "      <th>60</th>\n",
              "      <td>61</td>\n",
              "      <td>42</td>\n",
              "      <td>607</td>\n",
              "      <td>704000</td>\n",
              "      <td>2000</td>\n",
              "      <td>credit_card</td>\n",
              "      <td>2017-03-04 04:00:00</td>\n",
              "      <td>4</td>\n",
              "    </tr>\n",
              "    <tr>\n",
              "      <th>490</th>\n",
              "      <td>491</td>\n",
              "      <td>78</td>\n",
              "      <td>936</td>\n",
              "      <td>51450</td>\n",
              "      <td>2</td>\n",
              "      <td>debit</td>\n",
              "      <td>2017-03-26 17:08:19</td>\n",
              "      <td>26</td>\n",
              "    </tr>\n",
              "    <tr>\n",
              "      <th>493</th>\n",
              "      <td>494</td>\n",
              "      <td>78</td>\n",
              "      <td>983</td>\n",
              "      <td>51450</td>\n",
              "      <td>2</td>\n",
              "      <td>cash</td>\n",
              "      <td>2017-03-16 21:39:35</td>\n",
              "      <td>16</td>\n",
              "    </tr>\n",
              "    <tr>\n",
              "      <th>511</th>\n",
              "      <td>512</td>\n",
              "      <td>78</td>\n",
              "      <td>967</td>\n",
              "      <td>51450</td>\n",
              "      <td>2</td>\n",
              "      <td>cash</td>\n",
              "      <td>2017-03-09 07:23:14</td>\n",
              "      <td>9</td>\n",
              "    </tr>\n",
              "    <tr>\n",
              "      <th>520</th>\n",
              "      <td>521</td>\n",
              "      <td>42</td>\n",
              "      <td>607</td>\n",
              "      <td>704000</td>\n",
              "      <td>2000</td>\n",
              "      <td>credit_card</td>\n",
              "      <td>2017-03-02 04:00:00</td>\n",
              "      <td>2</td>\n",
              "    </tr>\n",
              "    <tr>\n",
              "      <th>617</th>\n",
              "      <td>618</td>\n",
              "      <td>78</td>\n",
              "      <td>760</td>\n",
              "      <td>51450</td>\n",
              "      <td>2</td>\n",
              "      <td>cash</td>\n",
              "      <td>2017-03-18 11:18:42</td>\n",
              "      <td>18</td>\n",
              "    </tr>\n",
              "    <tr>\n",
              "      <th>691</th>\n",
              "      <td>692</td>\n",
              "      <td>78</td>\n",
              "      <td>878</td>\n",
              "      <td>154350</td>\n",
              "      <td>6</td>\n",
              "      <td>debit</td>\n",
              "      <td>2017-03-27 22:51:43</td>\n",
              "      <td>27</td>\n",
              "    </tr>\n",
              "    <tr>\n",
              "      <th>1104</th>\n",
              "      <td>1105</td>\n",
              "      <td>42</td>\n",
              "      <td>607</td>\n",
              "      <td>704000</td>\n",
              "      <td>2000</td>\n",
              "      <td>credit_card</td>\n",
              "      <td>2017-03-24 04:00:00</td>\n",
              "      <td>24</td>\n",
              "    </tr>\n",
              "    <tr>\n",
              "      <th>1259</th>\n",
              "      <td>1260</td>\n",
              "      <td>78</td>\n",
              "      <td>775</td>\n",
              "      <td>77175</td>\n",
              "      <td>3</td>\n",
              "      <td>credit_card</td>\n",
              "      <td>2017-03-27 09:27:20</td>\n",
              "      <td>27</td>\n",
              "    </tr>\n",
              "    <tr>\n",
              "      <th>1362</th>\n",
              "      <td>1363</td>\n",
              "      <td>42</td>\n",
              "      <td>607</td>\n",
              "      <td>704000</td>\n",
              "      <td>2000</td>\n",
              "      <td>credit_card</td>\n",
              "      <td>2017-03-15 04:00:00</td>\n",
              "      <td>15</td>\n",
              "    </tr>\n",
              "    <tr>\n",
              "      <th>1436</th>\n",
              "      <td>1437</td>\n",
              "      <td>42</td>\n",
              "      <td>607</td>\n",
              "      <td>704000</td>\n",
              "      <td>2000</td>\n",
              "      <td>credit_card</td>\n",
              "      <td>2017-03-11 04:00:00</td>\n",
              "      <td>11</td>\n",
              "    </tr>\n",
              "    <tr>\n",
              "      <th>1529</th>\n",
              "      <td>1530</td>\n",
              "      <td>78</td>\n",
              "      <td>810</td>\n",
              "      <td>51450</td>\n",
              "      <td>2</td>\n",
              "      <td>cash</td>\n",
              "      <td>2017-03-29 07:12:01</td>\n",
              "      <td>29</td>\n",
              "    </tr>\n",
              "    <tr>\n",
              "      <th>1562</th>\n",
              "      <td>1563</td>\n",
              "      <td>42</td>\n",
              "      <td>607</td>\n",
              "      <td>704000</td>\n",
              "      <td>2000</td>\n",
              "      <td>credit_card</td>\n",
              "      <td>2017-03-19 04:00:00</td>\n",
              "      <td>19</td>\n",
              "    </tr>\n",
              "    <tr>\n",
              "      <th>1602</th>\n",
              "      <td>1603</td>\n",
              "      <td>42</td>\n",
              "      <td>607</td>\n",
              "      <td>704000</td>\n",
              "      <td>2000</td>\n",
              "      <td>credit_card</td>\n",
              "      <td>2017-03-17 04:00:00</td>\n",
              "      <td>17</td>\n",
              "    </tr>\n",
              "    <tr>\n",
              "      <th>2153</th>\n",
              "      <td>2154</td>\n",
              "      <td>42</td>\n",
              "      <td>607</td>\n",
              "      <td>704000</td>\n",
              "      <td>2000</td>\n",
              "      <td>credit_card</td>\n",
              "      <td>2017-03-12 04:00:00</td>\n",
              "      <td>12</td>\n",
              "    </tr>\n",
              "    <tr>\n",
              "      <th>2297</th>\n",
              "      <td>2298</td>\n",
              "      <td>42</td>\n",
              "      <td>607</td>\n",
              "      <td>704000</td>\n",
              "      <td>2000</td>\n",
              "      <td>credit_card</td>\n",
              "      <td>2017-03-07 04:00:00</td>\n",
              "      <td>7</td>\n",
              "    </tr>\n",
              "    <tr>\n",
              "      <th>2452</th>\n",
              "      <td>2453</td>\n",
              "      <td>78</td>\n",
              "      <td>709</td>\n",
              "      <td>51450</td>\n",
              "      <td>2</td>\n",
              "      <td>cash</td>\n",
              "      <td>2017-03-27 11:04:04</td>\n",
              "      <td>27</td>\n",
              "    </tr>\n",
              "    <tr>\n",
              "      <th>2492</th>\n",
              "      <td>2493</td>\n",
              "      <td>78</td>\n",
              "      <td>834</td>\n",
              "      <td>102900</td>\n",
              "      <td>4</td>\n",
              "      <td>debit</td>\n",
              "      <td>2017-03-04 04:37:34</td>\n",
              "      <td>4</td>\n",
              "    </tr>\n",
              "    <tr>\n",
              "      <th>2495</th>\n",
              "      <td>2496</td>\n",
              "      <td>78</td>\n",
              "      <td>707</td>\n",
              "      <td>51450</td>\n",
              "      <td>2</td>\n",
              "      <td>cash</td>\n",
              "      <td>2017-03-26 04:38:52</td>\n",
              "      <td>26</td>\n",
              "    </tr>\n",
              "    <tr>\n",
              "      <th>2564</th>\n",
              "      <td>2565</td>\n",
              "      <td>78</td>\n",
              "      <td>915</td>\n",
              "      <td>77175</td>\n",
              "      <td>3</td>\n",
              "      <td>debit</td>\n",
              "      <td>2017-03-25 01:19:35</td>\n",
              "      <td>25</td>\n",
              "    </tr>\n",
              "    <tr>\n",
              "      <th>2690</th>\n",
              "      <td>2691</td>\n",
              "      <td>78</td>\n",
              "      <td>962</td>\n",
              "      <td>77175</td>\n",
              "      <td>3</td>\n",
              "      <td>debit</td>\n",
              "      <td>2017-03-22 07:33:25</td>\n",
              "      <td>22</td>\n",
              "    </tr>\n",
              "    <tr>\n",
              "      <th>2835</th>\n",
              "      <td>2836</td>\n",
              "      <td>42</td>\n",
              "      <td>607</td>\n",
              "      <td>704000</td>\n",
              "      <td>2000</td>\n",
              "      <td>credit_card</td>\n",
              "      <td>2017-03-28 04:00:00</td>\n",
              "      <td>28</td>\n",
              "    </tr>\n",
              "    <tr>\n",
              "      <th>2906</th>\n",
              "      <td>2907</td>\n",
              "      <td>78</td>\n",
              "      <td>817</td>\n",
              "      <td>77175</td>\n",
              "      <td>3</td>\n",
              "      <td>debit</td>\n",
              "      <td>2017-03-16 03:45:46</td>\n",
              "      <td>16</td>\n",
              "    </tr>\n",
              "    <tr>\n",
              "      <th>2969</th>\n",
              "      <td>2970</td>\n",
              "      <td>42</td>\n",
              "      <td>607</td>\n",
              "      <td>704000</td>\n",
              "      <td>2000</td>\n",
              "      <td>credit_card</td>\n",
              "      <td>2017-03-28 04:00:00</td>\n",
              "      <td>28</td>\n",
              "    </tr>\n",
              "    <tr>\n",
              "      <th>3332</th>\n",
              "      <td>3333</td>\n",
              "      <td>42</td>\n",
              "      <td>607</td>\n",
              "      <td>704000</td>\n",
              "      <td>2000</td>\n",
              "      <td>credit_card</td>\n",
              "      <td>2017-03-24 04:00:00</td>\n",
              "      <td>24</td>\n",
              "    </tr>\n",
              "    <tr>\n",
              "      <th>3403</th>\n",
              "      <td>3404</td>\n",
              "      <td>78</td>\n",
              "      <td>928</td>\n",
              "      <td>77175</td>\n",
              "      <td>3</td>\n",
              "      <td>debit</td>\n",
              "      <td>2017-03-16 09:45:05</td>\n",
              "      <td>16</td>\n",
              "    </tr>\n",
              "    <tr>\n",
              "      <th>3724</th>\n",
              "      <td>3725</td>\n",
              "      <td>78</td>\n",
              "      <td>766</td>\n",
              "      <td>77175</td>\n",
              "      <td>3</td>\n",
              "      <td>credit_card</td>\n",
              "      <td>2017-03-16 14:13:26</td>\n",
              "      <td>16</td>\n",
              "    </tr>\n",
              "    <tr>\n",
              "      <th>4056</th>\n",
              "      <td>4057</td>\n",
              "      <td>42</td>\n",
              "      <td>607</td>\n",
              "      <td>704000</td>\n",
              "      <td>2000</td>\n",
              "      <td>credit_card</td>\n",
              "      <td>2017-03-28 04:00:00</td>\n",
              "      <td>28</td>\n",
              "    </tr>\n",
              "    <tr>\n",
              "      <th>4079</th>\n",
              "      <td>4080</td>\n",
              "      <td>78</td>\n",
              "      <td>946</td>\n",
              "      <td>51450</td>\n",
              "      <td>2</td>\n",
              "      <td>cash</td>\n",
              "      <td>2017-03-20 21:14:00</td>\n",
              "      <td>20</td>\n",
              "    </tr>\n",
              "    <tr>\n",
              "      <th>4192</th>\n",
              "      <td>4193</td>\n",
              "      <td>78</td>\n",
              "      <td>787</td>\n",
              "      <td>77175</td>\n",
              "      <td>3</td>\n",
              "      <td>credit_card</td>\n",
              "      <td>2017-03-18 09:25:32</td>\n",
              "      <td>18</td>\n",
              "    </tr>\n",
              "    <tr>\n",
              "      <th>4311</th>\n",
              "      <td>4312</td>\n",
              "      <td>78</td>\n",
              "      <td>960</td>\n",
              "      <td>51450</td>\n",
              "      <td>2</td>\n",
              "      <td>debit</td>\n",
              "      <td>2017-03-01 03:02:10</td>\n",
              "      <td>1</td>\n",
              "    </tr>\n",
              "    <tr>\n",
              "      <th>4412</th>\n",
              "      <td>4413</td>\n",
              "      <td>78</td>\n",
              "      <td>756</td>\n",
              "      <td>51450</td>\n",
              "      <td>2</td>\n",
              "      <td>debit</td>\n",
              "      <td>2017-03-02 04:13:39</td>\n",
              "      <td>2</td>\n",
              "    </tr>\n",
              "    <tr>\n",
              "      <th>4420</th>\n",
              "      <td>4421</td>\n",
              "      <td>78</td>\n",
              "      <td>969</td>\n",
              "      <td>77175</td>\n",
              "      <td>3</td>\n",
              "      <td>debit</td>\n",
              "      <td>2017-03-09 15:21:35</td>\n",
              "      <td>9</td>\n",
              "    </tr>\n",
              "    <tr>\n",
              "      <th>4646</th>\n",
              "      <td>4647</td>\n",
              "      <td>42</td>\n",
              "      <td>607</td>\n",
              "      <td>704000</td>\n",
              "      <td>2000</td>\n",
              "      <td>credit_card</td>\n",
              "      <td>2017-03-02 04:00:00</td>\n",
              "      <td>2</td>\n",
              "    </tr>\n",
              "    <tr>\n",
              "      <th>4715</th>\n",
              "      <td>4716</td>\n",
              "      <td>78</td>\n",
              "      <td>818</td>\n",
              "      <td>77175</td>\n",
              "      <td>3</td>\n",
              "      <td>debit</td>\n",
              "      <td>2017-03-05 05:10:44</td>\n",
              "      <td>5</td>\n",
              "    </tr>\n",
              "    <tr>\n",
              "      <th>4868</th>\n",
              "      <td>4869</td>\n",
              "      <td>42</td>\n",
              "      <td>607</td>\n",
              "      <td>704000</td>\n",
              "      <td>2000</td>\n",
              "      <td>credit_card</td>\n",
              "      <td>2017-03-22 04:00:00</td>\n",
              "      <td>22</td>\n",
              "    </tr>\n",
              "    <tr>\n",
              "      <th>4882</th>\n",
              "      <td>4883</td>\n",
              "      <td>42</td>\n",
              "      <td>607</td>\n",
              "      <td>704000</td>\n",
              "      <td>2000</td>\n",
              "      <td>credit_card</td>\n",
              "      <td>2017-03-25 04:00:00</td>\n",
              "      <td>25</td>\n",
              "    </tr>\n",
              "  </tbody>\n",
              "</table>\n",
              "</div>"
            ],
            "text/plain": [
              "      order_id  shop_id  user_id  ...  payment_method          created_at day\n",
              "15          16       42      607  ...     credit_card 2017-03-07 04:00:00   7\n",
              "60          61       42      607  ...     credit_card 2017-03-04 04:00:00   4\n",
              "490        491       78      936  ...           debit 2017-03-26 17:08:19  26\n",
              "493        494       78      983  ...            cash 2017-03-16 21:39:35  16\n",
              "511        512       78      967  ...            cash 2017-03-09 07:23:14   9\n",
              "520        521       42      607  ...     credit_card 2017-03-02 04:00:00   2\n",
              "617        618       78      760  ...            cash 2017-03-18 11:18:42  18\n",
              "691        692       78      878  ...           debit 2017-03-27 22:51:43  27\n",
              "1104      1105       42      607  ...     credit_card 2017-03-24 04:00:00  24\n",
              "1259      1260       78      775  ...     credit_card 2017-03-27 09:27:20  27\n",
              "1362      1363       42      607  ...     credit_card 2017-03-15 04:00:00  15\n",
              "1436      1437       42      607  ...     credit_card 2017-03-11 04:00:00  11\n",
              "1529      1530       78      810  ...            cash 2017-03-29 07:12:01  29\n",
              "1562      1563       42      607  ...     credit_card 2017-03-19 04:00:00  19\n",
              "1602      1603       42      607  ...     credit_card 2017-03-17 04:00:00  17\n",
              "2153      2154       42      607  ...     credit_card 2017-03-12 04:00:00  12\n",
              "2297      2298       42      607  ...     credit_card 2017-03-07 04:00:00   7\n",
              "2452      2453       78      709  ...            cash 2017-03-27 11:04:04  27\n",
              "2492      2493       78      834  ...           debit 2017-03-04 04:37:34   4\n",
              "2495      2496       78      707  ...            cash 2017-03-26 04:38:52  26\n",
              "2564      2565       78      915  ...           debit 2017-03-25 01:19:35  25\n",
              "2690      2691       78      962  ...           debit 2017-03-22 07:33:25  22\n",
              "2835      2836       42      607  ...     credit_card 2017-03-28 04:00:00  28\n",
              "2906      2907       78      817  ...           debit 2017-03-16 03:45:46  16\n",
              "2969      2970       42      607  ...     credit_card 2017-03-28 04:00:00  28\n",
              "3332      3333       42      607  ...     credit_card 2017-03-24 04:00:00  24\n",
              "3403      3404       78      928  ...           debit 2017-03-16 09:45:05  16\n",
              "3724      3725       78      766  ...     credit_card 2017-03-16 14:13:26  16\n",
              "4056      4057       42      607  ...     credit_card 2017-03-28 04:00:00  28\n",
              "4079      4080       78      946  ...            cash 2017-03-20 21:14:00  20\n",
              "4192      4193       78      787  ...     credit_card 2017-03-18 09:25:32  18\n",
              "4311      4312       78      960  ...           debit 2017-03-01 03:02:10   1\n",
              "4412      4413       78      756  ...           debit 2017-03-02 04:13:39   2\n",
              "4420      4421       78      969  ...           debit 2017-03-09 15:21:35   9\n",
              "4646      4647       42      607  ...     credit_card 2017-03-02 04:00:00   2\n",
              "4715      4716       78      818  ...           debit 2017-03-05 05:10:44   5\n",
              "4868      4869       42      607  ...     credit_card 2017-03-22 04:00:00  22\n",
              "4882      4883       42      607  ...     credit_card 2017-03-25 04:00:00  25\n",
              "\n",
              "[38 rows x 8 columns]"
            ]
          },
          "metadata": {
            "tags": []
          },
          "execution_count": 12
        }
      ]
    },
    {
      "cell_type": "markdown",
      "metadata": {
        "id": "AtIKR7SFmTeX"
      },
      "source": [
        "We see that the noise/outliers found by our clustering algo are, in fact, the orders made from __user\\_id__ = 607 and from __shop\\_id__ = 78 (i.e: orders that had super high __order\\_amount__)."
      ]
    },
    {
      "cell_type": "markdown",
      "metadata": {
        "id": "GNiKs6xKmRSH"
      },
      "source": [
        "To visualize our learned clusters/outliers, we can plot a 3D representation of our feature vector using PCA (with 3 principal components):"
      ]
    },
    {
      "cell_type": "code",
      "metadata": {
        "colab": {
          "base_uri": "https://localhost:8080/",
          "height": 204
        },
        "id": "RU27VbnSIxgn",
        "outputId": "5a7ed0cd-5d81-4e92-ab79-8b0e3a029fc1"
      },
      "source": [
        "from sklearn.decomposition import PCA\n",
        "\n",
        "pca = PCA(n_components=3)\n",
        "principalComponents = pca.fit_transform(train)\n",
        "\n",
        "clusters = pd.DataFrame({\n",
        "    \"principal_components_1\": principalComponents[:, 0],\n",
        "    \"principal_components_2\": principalComponents[:, 1],\n",
        "    \"principal_components_3\": principalComponents[:, 2],\n",
        "    \"cluster\": db.labels_ \n",
        "})\n",
        "\n",
        "clusters.head()"
      ],
      "execution_count": 13,
      "outputs": [
        {
          "output_type": "execute_result",
          "data": {
            "text/html": [
              "<div>\n",
              "<style scoped>\n",
              "    .dataframe tbody tr th:only-of-type {\n",
              "        vertical-align: middle;\n",
              "    }\n",
              "\n",
              "    .dataframe tbody tr th {\n",
              "        vertical-align: top;\n",
              "    }\n",
              "\n",
              "    .dataframe thead th {\n",
              "        text-align: right;\n",
              "    }\n",
              "</style>\n",
              "<table border=\"1\" class=\"dataframe\">\n",
              "  <thead>\n",
              "    <tr style=\"text-align: right;\">\n",
              "      <th></th>\n",
              "      <th>principal_components_1</th>\n",
              "      <th>principal_components_2</th>\n",
              "      <th>principal_components_3</th>\n",
              "      <th>cluster</th>\n",
              "    </tr>\n",
              "  </thead>\n",
              "  <tbody>\n",
              "    <tr>\n",
              "      <th>0</th>\n",
              "      <td>-0.488348</td>\n",
              "      <td>1.639632</td>\n",
              "      <td>0.969759</td>\n",
              "      <td>0</td>\n",
              "    </tr>\n",
              "    <tr>\n",
              "      <th>1</th>\n",
              "      <td>-0.704999</td>\n",
              "      <td>1.716569</td>\n",
              "      <td>-0.654937</td>\n",
              "      <td>0</td>\n",
              "    </tr>\n",
              "    <tr>\n",
              "      <th>2</th>\n",
              "      <td>-0.620326</td>\n",
              "      <td>1.653765</td>\n",
              "      <td>0.065547</td>\n",
              "      <td>0</td>\n",
              "    </tr>\n",
              "    <tr>\n",
              "      <th>3</th>\n",
              "      <td>1.518759</td>\n",
              "      <td>-0.273053</td>\n",
              "      <td>-0.946375</td>\n",
              "      <td>1</td>\n",
              "    </tr>\n",
              "    <tr>\n",
              "      <th>4</th>\n",
              "      <td>1.556459</td>\n",
              "      <td>-0.363878</td>\n",
              "      <td>-0.707823</td>\n",
              "      <td>1</td>\n",
              "    </tr>\n",
              "  </tbody>\n",
              "</table>\n",
              "</div>"
            ],
            "text/plain": [
              "   principal_components_1  ...  cluster\n",
              "0               -0.488348  ...        0\n",
              "1               -0.704999  ...        0\n",
              "2               -0.620326  ...        0\n",
              "3                1.518759  ...        1\n",
              "4                1.556459  ...        1\n",
              "\n",
              "[5 rows x 4 columns]"
            ]
          },
          "metadata": {
            "tags": []
          },
          "execution_count": 13
        }
      ]
    },
    {
      "cell_type": "code",
      "metadata": {
        "colab": {
          "base_uri": "https://localhost:8080/",
          "height": 319
        },
        "id": "EZHrbfNcW20B",
        "outputId": "6d64567e-19d6-4a4f-dc32-d9468c23cec1"
      },
      "source": [
        "from matplotlib import pyplot\n",
        "from mpl_toolkits.mplot3d import Axes3D\n",
        "import numpy as np\n",
        "\n",
        "fig = pyplot.figure()\n",
        "ax = Axes3D(fig)\n",
        "\n",
        "for cluster_number in np.unique(db.labels_):\n",
        "    points = clusters.loc[clusters[\"cluster\"] == cluster_number]\n",
        "    label = f\"cluster {cluster_number}\" if cluster_number != -1 else \"outliers\"\n",
        "    ax.scatter(points[\"principal_components_1\"], points[\"principal_components_2\"], points[\"principal_components_3\"], label=label)\n",
        "\n",
        "ax.set_xlabel(\"Principal Components 1\")\n",
        "ax.set_ylabel(\"Principal Components 2\")\n",
        "ax.set_zlabel(\"Principal Components 3\")\n",
        "ax.set_title(\"3D Clusters View\")\n",
        "ax.legend()\n",
        "\n",
        "pyplot.show()"
      ],
      "execution_count": 14,
      "outputs": [
        {
          "output_type": "display_data",
          "data": {
            "image/png": "[encoded data removed]",
            "text/plain": [
              "<Figure size 432x288 with 1 Axes>"
            ]
          },
          "metadata": {
            "tags": [],
            "needs_background": "light"
          }
        }
      ]
    },
    {
      "cell_type": "markdown",
      "metadata": {
        "id": "uxG02PV3ca2d"
      },
      "source": [
        "We can see that the outliers (blue points) are data points that are too far from the 3 main clusters (red, orange, and green)."
      ]
    },
    {
      "cell_type": "markdown",
      "metadata": {
        "id": "z9rx_IojmoQ5"
      },
      "source": [
        "Finally, if we calculate our AOV again but removing the outliers flagged by our clustering algo we get:"
      ]
    },
    {
      "cell_type": "code",
      "metadata": {
        "colab": {
          "base_uri": "https://localhost:8080/"
        },
        "id": "Y7kIUnaYzIBy",
        "outputId": "6e39d6a8-1439-4dbc-e2a6-9fac118b5e93"
      },
      "source": [
        "AOV_without_outliers = dataset[db.labels_ != -1][\"order_amount\"].mean()\n",
        "print(\"AOV without outliers: {:.2f}\".format(AOV_without_outliers))"
      ],
      "execution_count": 15,
      "outputs": [
        {
          "output_type": "stream",
          "text": [
            "AOV without outliers: 461.77\n"
          ],
          "name": "stdout"
        }
      ]
    },
    {
      "cell_type": "markdown",
      "metadata": {
        "id": "Zz39diZ4nYkQ"
      },
      "source": [
        "This value makes much more sense than the previous \"naive\" one, given that we know these shops are selling relatively affordable items."
      ]
    }
  ]
}